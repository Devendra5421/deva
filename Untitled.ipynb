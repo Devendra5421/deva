{
 "cells": [
  {
   "cell_type": "code",
   "execution_count": 1,
   "id": "4e2ad2fa",
   "metadata": {},
   "outputs": [],
   "source": [
    "import pandas as pd\n",
    "import numpy as np\n",
    "from matplotlib import pyplot as plt"
   ]
  },
  {
   "cell_type": "code",
   "execution_count": 4,
   "id": "55cc4d9d",
   "metadata": {},
   "outputs": [
    {
     "name": "stdout",
     "output_type": "stream",
     "text": [
      "28 61.800000000000004 314.8 140 7\n",
      "2.4142857142857133\n",
      "-0.8285714285714231\n",
      "[1.5857142857142903, 4.0000000000000036, 6.414285714285717, 8.82857142857143, 11.242857142857142, 13.657142857142857, 16.07142857142857]\n"
     ]
    },
    {
     "data": {
      "image/png": "[encoded data removed]",
      "text/plain": [
       "<Figure size 432x288 with 1 Axes>"
      ]
     },
     "metadata": {
      "needs_background": "light"
     },
     "output_type": "display_data"
    }
   ],
   "source": [
    "class LinearRegression():\n",
    "    def __init__(self, X ,Y):\n",
    "        self.X = X\n",
    "        self.Y = Y\n",
    "        f_data = pd.DataFrame()\n",
    "        f_data['X'] = self.X\n",
    "        f_data['Y'] = self.Y\n",
    "        sum_x = f_data['X'].sum()\n",
    "        sum_y = f_data['Y'].sum()\n",
    "        sum_xy = (f_data['X']*f_data['Y']).sum()\n",
    "        sum_x2 = (f_data['X']*f_data['X']).sum()\n",
    "        n = len(f_data)\n",
    "        print(sum_x, sum_y ,sum_xy, sum_x2 ,n)\n",
    "        pass\n",
    "    def m(self):\n",
    "        f_data = pd.DataFrame()\n",
    "        f_data['X'] = self.X\n",
    "        f_data['Y'] = self.Y\n",
    "        sum_x = f_data['X'].sum()\n",
    "        sum_y = f_data['Y'].sum()\n",
    "        sum_xy = (f_data['X']*f_data['Y']).sum()\n",
    "        sum_x2 = (f_data['X']*f_data['X']).sum()\n",
    "        n = len(f_data)\n",
    "        \n",
    "        m = ((n * sum_xy) - (sum_x * sum_y))/((n * sum_x2) - (sum_x) ** 2)\n",
    "        \n",
    "        \n",
    "        print(m)\n",
    "        \n",
    "    def coef(self):\n",
    "        f_data = pd.DataFrame()\n",
    "        f_data['X'] = self.X\n",
    "        f_data['Y'] = self.Y\n",
    "        sum_x = f_data['X'].sum()\n",
    "        sum_y = f_data['Y'].sum()\n",
    "        sum_xy = (f_data['X']*f_data['Y']).sum()\n",
    "        sum_x2 = (f_data['X']*f_data['X']).sum()\n",
    "        n = len(f_data)\n",
    "        m = ((n * sum_xy) - (sum_x * sum_y))/((n * sum_x2) - (sum_x) ** 2)\n",
    "        coef = ((sum_y) - (m*sum_x))/n\n",
    "        print(coef)\n",
    "        pass\n",
    "    def y(self):\n",
    "        f_data = pd.DataFrame()\n",
    "        f_data['X'] = self.X\n",
    "        f_data['Y'] = self.Y\n",
    "        sum_x = f_data['X'].sum()\n",
    "        sum_y = f_data['Y'].sum()\n",
    "        sum_xy = (f_data['X']*f_data['Y']).sum()\n",
    "        sum_x2 = (f_data['X']*f_data['X']).sum()\n",
    "        n = len(f_data)\n",
    "        m = ((n * sum_xy) - (sum_x * sum_y))/((n * sum_x2) - (sum_x) ** 2)\n",
    "        coef = ((sum_y) - (m*sum_x))/n\n",
    "        y = [m * x + coef for x in f_data['X']]\n",
    "        \n",
    "        print(y)\n",
    "        \n",
    "        pass\n",
    "    \n",
    "    def visualize(self):\n",
    "        f_data = pd.DataFrame()\n",
    "        f_data['X'] = self.X\n",
    "        f_data['Y'] = self.Y\n",
    "        plt.scatter(f_data['X'], f_data['Y'])\n",
    "        plt.xlabel(\"values\")\n",
    "        plt.ylabel(\"Frequency\")\n",
    "        plt.grid()\n",
    "        plt.title(\"LinearRegression\")\n",
    "        plt.show()\n",
    "        pass\n",
    "obj = LinearRegression([1, 2, 3, 4, 5, 6, 7], [1.5, 3.8, 6.7, 9.0, 11.2, 13.6, 16])\n",
    "obj.m()\n",
    "obj.coef()\n",
    "obj.y()\n",
    "\n",
    "obj.visualize()\n",
    "    "
   ]
  },
  {
   "cell_type": "code",
   "execution_count": null,
   "id": "01d566e2",
   "metadata": {},
   "outputs": [],
   "source": []
  }
 ],
 "metadata": {
  "kernelspec": {
   "display_name": "Python 3 (ipykernel)",
   "language": "python",
   "name": "python3"
  },
  "language_info": {
   "codemirror_mode": {
    "name": "ipython",
    "version": 3
   },
   "file_extension": ".py",
   "mimetype": "text/x-python",
   "name": "python",
   "nbconvert_exporter": "python",
   "pygments_lexer": "ipython3",
   "version": "3.9.12"
  }
 },
 "nbformat": 4,
 "nbformat_minor": 5
}
